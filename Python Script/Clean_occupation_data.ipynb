{
 "cells": [
  {
   "cell_type": "code",
   "execution_count": 18,
   "metadata": {},
   "outputs": [
    {
     "name": "stdout",
     "output_type": "stream",
     "text": [
      "Computer workers\t1903100\t9.184%\n",
      "Engineers\t1341850\t6.475%\n",
      "Mathematicians and statisticians\t78470\t0.379%\n",
      "Life scientists\t166170\t0.802%\n",
      "Physical scientists\t217580\t1.05%\n",
      "Social scientists\t88095\t0.425%\n",
      "Architects\t103565\t0.5%\n",
      "Health care\t1291735\t6.233%\n",
      "Managers (non-STEM)2\t3810430\t18.388%\n",
      "Business and financial\t1976555\t9.538%\n",
      "Social services\t520635\t2.512%\n",
      "Legal\t659625\t3.183%\n",
      "Education\t1703485\t8.22%\n",
      "Arts and entertainment\t697130\t3.364%\n",
      "Service\t1238795\t5.978%\n",
      "Sales\t2278980\t10.998%\n",
      "Office support\t1051875\t5.076%\n",
      "Agriculture\t35220\t0.17%\n",
      "Construction\t665795\t3.213%\n",
      "Production\t893580\t4.312%\n"
     ]
    }
   ],
   "source": [
    "file_name = 'occupation_men.tsv' # Change file_name to occupation_women.tsv to get women occupation values\n",
    "occupation_and_values = []\n",
    "sum_occupation_values = 0\n",
    "with open(file_name) as f:\n",
    "    for line in f:\n",
    "        values = line.split('\\t')\n",
    "        if values[0] != 'Occupation':\n",
    "            sum_of_occupations = 0\n",
    "            for i in range(len(values)):\n",
    "                if i % 2 == 1:\n",
    "                    sum_of_occupations += int(values[i].replace(',',''))\n",
    "            occupation_and_values.append(values[0]+\"\\t\"+str(sum_of_occupations))\n",
    "            sum_occupation_values += sum_of_occupations\n",
    "print (\"Occupation\\tValue\\tPercent\")\n",
    "for ov in occupation_and_values:\n",
    "    _, value = ov.split('\\t')\n",
    "    percent = round((float(value)/sum_occupation_values) * 100, 3)\n",
    "    print (ov+'\\t'+str(percent)+'%')\n",
    "            \n",
    "        \n",
    "        "
   ]
  },
  {
   "cell_type": "code",
   "execution_count": null,
   "metadata": {
    "collapsed": true
   },
   "outputs": [],
   "source": []
  }
 ],
 "metadata": {
  "kernelspec": {
   "display_name": "Python 3",
   "language": "python",
   "name": "python3"
  },
  "language_info": {
   "codemirror_mode": {
    "name": "ipython",
    "version": 3
   },
   "file_extension": ".py",
   "mimetype": "text/x-python",
   "name": "python",
   "nbconvert_exporter": "python",
   "pygments_lexer": "ipython3",
   "version": "3.6.1"
  }
 },
 "nbformat": 4,
 "nbformat_minor": 2
}
